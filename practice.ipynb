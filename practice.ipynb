{
 "cells": [
  {
   "cell_type": "code",
   "id": "initial_id",
   "metadata": {
    "collapsed": true
   },
   "source": [
    "# #VARIABLES\n",
    "# a=97\n",
    "#\n",
    "# print(a)\n",
    "# print(type(a))\n",
    "# A=97\n",
    "# print(A)\n",
    "# print(type(a))\n",
    "# print(A)\n",
    "# #print(size of(a))\n",
    "# b=\"awais\"\n",
    "# print(b)\n",
    "# print(type(b))\n",
    "# n=79.32\n",
    "# print(n)\n",
    "# print(type(n))\n",
    "#\n",
    "#\n",
    "#\n",
    "#\n",
    "#"
   ],
   "outputs": [],
   "execution_count": null
  },
  {
   "metadata": {},
   "cell_type": "code",
   "source": [
    "# #PYTHON CASTING\n",
    "#\n",
    "# a=69\n",
    "# print(a)\n",
    "# print(type(a))\n",
    "# str(a)\n",
    "# print(type(a))\n",
    "#"
   ],
   "id": "af5c9f89081bb456",
   "outputs": [],
   "execution_count": null
  },
  {
   "metadata": {},
   "cell_type": "code",
   "source": [
    "# #SRING\n",
    "#\n",
    "# a=\"Muhammad Awais\"\n",
    "# print(type(a))\n",
    "# print(a)\n",
    "# print(len(a))\n",
    "# for i in (a):\n",
    "#     print(i)"
   ],
   "id": "5f7c122ed8467bb4",
   "outputs": [],
   "execution_count": null
  },
  {
   "metadata": {},
   "cell_type": "code",
   "source": [
    "# #STRING\n",
    "# a=\"how are you\"\n",
    "# b=24\n",
    "# c=f\"listen bro {a} and i am {b} years old\"\n",
    "# print(c)\n",
    "# d=8\n",
    "# print(f\"kia hal hay {d:.2f}\")"
   ],
   "id": "8cbd65fccd9240b1",
   "outputs": [],
   "execution_count": null
  },
  {
   "metadata": {},
   "cell_type": "code",
   "source": [
    "# # # creating a list byself\n",
    "class mylist:\n",
    "    def __init__(self):\n",
    "        self.value=[]\n",
    "\n",
    "    def add(self,item):\n",
    "        self.value.append(item)\n",
    "    def get(self,ind):\n",
    "        return self.value[ind]\n",
    "    def __repr__(self):\n",
    "        return str(self.value)\n",
    "a=mylist()\n",
    "a.add(10)\n",
    "a.add(32)\n",
    "print(a.get(1))\n",
    "print(a)\n",
    "print(a)\n",
    "#\n",
    "# class newlist:\n",
    "#     def __init__(self):\n",
    "#         self.num=[]\n",
    "#\n",
    "#     def add(self,value):\n",
    "#         self.num.append(value)\n",
    "#     def get(self,index):\n",
    "#       return self.num[index]\n",
    "#\n",
    "#     def __repr__(self):\n",
    "#         return str(self.num)\n",
    "# b=newlist()\n",
    "# b.add(324)\n",
    "# b.add(234)\n",
    "# b.add(42)\n",
    "# print(b.get(2))\n",
    "# print(b)\n",
    "class dic:\n",
    "    def __init__(self):\n",
    "        self.items={}\n",
    "    def add(self,key,val):\n",
    "        self.items[key]= val\n",
    "    def get(self,key):\n",
    "        return self.items.get(key,\" not found\")\n",
    "    def __repr__(self):\n",
    "        return str(self.items)\n",
    "a1=dic()\n",
    "a1.add(\"as\",5)\n",
    "a1.add(\"a\",98)\n",
    "print(a1.get(\"as\"))\n",
    "print(a1)\n"
   ],
   "id": "d49e08feea9d5643",
   "outputs": [],
   "execution_count": null
  },
  {
   "metadata": {},
   "cell_type": "code",
   "source": [
    "class ac:\n",
    "    def __init__(self):\n",
    "        self.value=[]\n",
    "    def append(self,no):\n",
    "        self.value.append(no)\n",
    "    def get(self,ind):\n",
    "        return self.value[ind]\n",
    "    def __repr__(self):\n",
    "        return str(self.value)\n",
    "b=ac()\n",
    "b.append(3)\n",
    "b.append(79)\n",
    "print(b)\n",
    "print(b.get(1))\n"
   ],
   "id": "31cba8332095ef0d",
   "outputs": [],
   "execution_count": null
  },
  {
   "metadata": {},
   "cell_type": "code",
   "source": "",
   "id": "9f83fe66c95c40b5",
   "outputs": [],
   "execution_count": null
  },
  {
   "metadata": {},
   "cell_type": "code",
   "source": [
    "class mydic:\n",
    "    def __init__(self):\n",
    "        self.data={}\n",
    "    def add(self,key,value):\n",
    "        self.data[key]=value\n",
    "    def get(self,key):\n",
    "        return self.data.get(key,\"jjhvd\")\n",
    "    def __repr__(self):\n",
    "        return str(self.data)\n",
    "c=mydic()\n",
    "c.add(\"ff\",23)\n",
    "print(c.data)\n",
    "print(c)\n",
    "print(c.get(\"ff\"))\n",
    "\n"
   ],
   "id": "fd1c74035f7f80b4",
   "outputs": [],
   "execution_count": null
  },
  {
   "metadata": {},
   "cell_type": "code",
   "source": [
    "# #Function\n",
    "# def myfun():\n",
    "#     print(\"YAA\")\n",
    "# myfun()\n",
    "# def check1(a=\"ALLAH MUHAMMAD\"):\n",
    "#     print(a)\n",
    "#\n",
    "#\n",
    "# check1()\n",
    "# def check2(m,b):\n",
    "#     print(b,m)\n",
    "# check2(m=3,b=\"ff\")\n",
    "# check2(\"ali\",3)\n",
    "#\n",
    "#\n",
    "# def check3(k):\n",
    "#  return k\n",
    "# check3(\"Muhammad\")+\" \"+ \"Awais\"+\" \"+ \"1\"\n",
    "\n",
    "\n",
    "# def check4(a=7,b=\"chodhary\"):\n",
    "#     print(a,b)\n",
    "# check4(a=1,b=\"Awais\")\n",
    "# check4()\n",
    "\n",
    "# def  check5(a,b):\n",
    "#     for i in a:\n",
    "#         print(i)\n",
    "#     for j in b:\n",
    "#         print(j)\n",
    "# check5([1,3,2,\"Muhammad Awais\"],(1,2,3,4,\"gmd\"))\n",
    "\n",
    "# def check6(*a,b=\"awais\"):\n",
    "#     print(a)\n",
    "#     print(b)\n",
    "# check6(6,23,4,1,\"4\",)\n",
    "def check7(*a,b=\"awais\"):\n",
    "   return a,b\n",
    "check7(6,23,4,1,\"4\",)\n",
    "\n",
    "\n",
    "def check8(**b):\n",
    "    return b\n",
    "check8(awais=1,b=\"ali\",)\n",
    "\n"
   ],
   "id": "108980693d630fcc",
   "outputs": [],
   "execution_count": null
  },
  {
   "metadata": {},
   "cell_type": "code",
   "source": [
    "#   lamda function\n",
    "\n",
    "# a=lambda a,b: a+b\n",
    "# a(2,3)\n",
    "# b=lambda **c:c\n",
    "# b(a=1,b=\"Awais\")\n",
    "\n",
    "def check9(b):\n",
    "    l=[]\n",
    "    for i in b:\n",
    "        l.append(i+2)\n",
    "    return l\n",
    "check9([2,3,2,3,7])"
   ],
   "id": "9028820d295240c4",
   "outputs": [],
   "execution_count": null
  },
  {
   "metadata": {},
   "cell_type": "code",
   "source": [
    "try:\n",
    "    a=6 / 0\n",
    "except ZeroDivisionError:\n",
    "    print(\"Error\")\n"
   ],
   "id": "414645a500722a75",
   "outputs": [],
   "execution_count": null
  },
  {
   "metadata": {},
   "cell_type": "code",
   "source": [
    "a=[x**2 for x in range(5)]\n",
    "print(a)\n",
    "fs = frozenset([1, 2, 3])\n",
    "print(fs)"
   ],
   "id": "56a521dd3fc93efb",
   "outputs": [],
   "execution_count": null
  },
  {
   "metadata": {},
   "cell_type": "code",
   "source": [
    "d = {frozenset([1, 2]): \"pair\"}\n",
    "print(d[frozenset([1, 2])])"
   ],
   "id": "a1cb84417c6bd25d",
   "outputs": [],
   "execution_count": null
  },
  {
   "metadata": {},
   "cell_type": "code",
   "source": [
    "#abstraction\n",
    "\n",
    "from abc import ABC,abstractmethod\n",
    "class ali:\n",
    "    @abstractmethod\n"
   ],
   "id": "b68d22103697214a",
   "outputs": [],
   "execution_count": null
  },
  {
   "metadata": {},
   "cell_type": "code",
   "source": [
    "#comperihensive\n",
    "squares = {x: x*x for x in range(5)}\n",
    "print(squares)\n"
   ],
   "id": "42e68d21d07db9fd",
   "outputs": [],
   "execution_count": null
  },
  {
   "metadata": {},
   "cell_type": "code",
   "source": [
    "# f=open(\"vg.txt\",\"r\")\n",
    "# a=f.read()\n",
    "# print(\"new file\",a)\n",
    "# f.close()\n",
    "with open(\"vg.txt\",\"w+\") as a:\n",
    "    a.write(\"how are you\")\n",
    "    a.seek(0)\n",
    "    b=a.read()\n",
    "    print(\"New File\",b)\n",
    "\n",
    "\n"
   ],
   "id": "f618575770705442",
   "outputs": [],
   "execution_count": null
  },
  {
   "metadata": {},
   "cell_type": "code",
   "source": [
    "file= open(\"examp.txt\",\"r\")\n",
    "see=file.read()\n",
    "print(\"New File have value:\",see)\n",
    "file.close()"
   ],
   "id": "ea98051b24a81441",
   "outputs": [],
   "execution_count": null
  },
  {
   "metadata": {},
   "cell_type": "code",
   "source": [
    "# #Built in Function\n",
    "# a=-12.45\n",
    "# b=-1.9\n",
    "# print(abs(a))\n",
    "# print(abs(b))\n",
    "# print(all([True,False,True,False]))\n",
    "# print(any([False,True,False]))\n",
    "# print(ascii(\"hello\"))\n",
    "# breakpoint()\n",
    "#\n",
    "# print(bin(7))\n",
    "# print(7>6)\n",
    "# a=bytearray(\"Hello\",\"utf-8\")\n",
    "# a[0]=74\n",
    "# print(bytearray(a))\n",
    "# print(a)\n",
    "# b=bytes(7)\n",
    "# print(b)\n",
    "# print(callable(print))\n",
    "# print(dir([]))\n",
    "# class fr:\n",
    "#     a=7\n",
    "# delattr(fr,\"a\")\n",
    "# print(hash(\"hello\"))\n",
    "\n",
    "names = ['Ali', 'Sara']\n",
    "ages = [20, 25]\n",
    "print(list(zip(names, ages)))\n",
    "print(callable(print))\n",
    "a=67\n",
    "print(chr(67))\n",
    "class ab:\n",
    "    @classmethod\n",
    "    def al(cls):\n",
    "        print(8+7,cls)\n",
    "ab.al()\n",
    "a=compile(\"print(9+8)\",\"\",\"exec\")\n",
    "exec(a)\n",
    "print(f\"how are you {10+8}\")"
   ],
   "id": "de30e939ec1bb428",
   "outputs": [],
   "execution_count": null
  },
  {
   "metadata": {},
   "cell_type": "code",
   "source": [
    "class ab:\n",
    "    a=6\n",
    "    delattr(ab,\"a\")"
   ],
   "id": "81d9efdc5b2957f5",
   "outputs": [],
   "execution_count": null
  },
  {
   "metadata": {},
   "cell_type": "code",
   "source": [
    "ab=dict(a=7,b=98,c=\"awais\")\n",
    "print(ab)\n",
    "print(ab[\"a\"])\n",
    "print(ab.keys())\n",
    "print(ab.values())\n",
    "# print(dir())\n",
    "print(divmod(70,6))\n"
   ],
   "id": "2e0481bc66f451d5",
   "outputs": [],
   "execution_count": null
  },
  {
   "metadata": {},
   "cell_type": "code",
   "source": [
    "# a=[2,3,2,\"awais\",\"idrees\",\"gmd\",1]\n",
    "# for i, val in enumerate(a):\n",
    "#     print(\"index=\",i,\"\\n\",\"value=\",val)\n",
    "b=[2,3,2,3]\n",
    "for i,val in enumerate(b):\n",
    "    print(i,val)"
   ],
   "id": "e10013aa0686e9d",
   "outputs": [],
   "execution_count": null
  },
  {
   "metadata": {},
   "cell_type": "code",
   "source": [
    "# a=(\"98+2\")\n",
    "#\n",
    "# print(eval(a))\n",
    "# b=(\"awais\")\n",
    "exec(\"\"\"\n",
    "b=6\n",
    "c=9\n",
    "\"\"\",globals())\n",
    "print(b+c)\n"
   ],
   "id": "320e54b159114e96",
   "outputs": [],
   "execution_count": null
  },
  {
   "metadata": {},
   "cell_type": "code",
   "source": [
    "code = \"\"\"\n",
    "b = 6\n",
    "c = 9\n",
    "a=b+c\n",
    "\"\"\"\n",
    "exec(code)"
   ],
   "id": "15da2b9ce0037dab",
   "outputs": [],
   "execution_count": null
  },
  {
   "metadata": {},
   "cell_type": "code",
   "source": [
    "a=[1,5,2,7,4,6,3,2,5,3,2,8,9]\n",
    "def ab(num):\n",
    "    return num%3==1\n",
    "b=filter(ab,a)\n",
    "print(list(b))\n",
    "b=[2,4,2,7,6]\n",
    "def ba(n):\n",
    "    return (n%2==0) == 1\n",
    "c=filter(ba,b)\n",
    "print(list(c))"
   ],
   "id": "e6ed66d51537c89a",
   "outputs": [],
   "execution_count": null
  },
  {
   "metadata": {},
   "cell_type": "code",
   "source": "print(\"How are you{}\".format(b))",
   "id": "c762d92fd586ec7",
   "outputs": [],
   "execution_count": null
  },
  {
   "metadata": {},
   "cell_type": "code",
   "source": [
    "a=frozenset([1,3,11,5,2])\n",
    "print(a)"
   ],
   "id": "e52d47f6cea61110",
   "outputs": [],
   "execution_count": null
  },
  {
   "metadata": {},
   "cell_type": "code",
   "source": [
    "class ab:\n",
    "    n=\"awais\"\n",
    "ins = ab()\n",
    "print(hasattr(ab,\"n\"))\n",
    "print(isinstance(ins.n,int))\n",
    "\n",
    "# getattr(ab,\"a\")\n",
    "# print(isinstance(n,str))\n",
    "# print(type(a))"
   ],
   "id": "fff915c27e3c6b89",
   "outputs": [],
   "execution_count": null
  },
  {
   "metadata": {},
   "cell_type": "code",
   "source": [
    "class awais:\n",
    "    a=4\n",
    "print(globals()[\"a\"])\n",
    "print(globals()[\"b\"])"
   ],
   "id": "daff7dae46760686",
   "outputs": [],
   "execution_count": null
  },
  {
   "metadata": {},
   "cell_type": "code",
   "source": [
    "class idrees:\n",
    "    pass\n",
    "class awais(idrees):\n",
    "    pass\n",
    "print(issubclass(awais,idrees))"
   ],
   "id": "d59f261e6396c3f8",
   "outputs": [],
   "execution_count": null
  },
  {
   "metadata": {},
   "cell_type": "code",
   "source": [
    "a=[2,44,3,4,3,]\n",
    "b=iter(a)\n",
    "print(next(b))\n",
    "print(dir(dict))\n",
    "# for i in a:\n",
    "#     print(i)"
   ],
   "id": "20f89a84728ff53b",
   "outputs": [],
   "execution_count": null
  },
  {
   "metadata": {},
   "cell_type": "code",
   "source": [
    "class aais:\n",
    "    a=7\n",
    "print(locals()[\"a\"])"
   ],
   "id": "379d5611f67f12ea",
   "outputs": [],
   "execution_count": null
  },
  {
   "metadata": {},
   "cell_type": "code",
   "source": [
    "a=[3,4,34,4,2,4]\n",
    "c=lambda a,b:30+23\n",
    "\n",
    "print(tuple(c(6,89)))\n",
    "# print(c(54,78))\n",
    "\n",
    "\n"
   ],
   "id": "63298a97fd87462",
   "outputs": [],
   "execution_count": null
  },
  {
   "metadata": {},
   "cell_type": "code",
   "source": [
    "nums = [1, 2, 3]\n",
    "b=str(87)\n",
    "squares =set (map(lambda x: x+\"Awais \", b))\n",
    "print(squares)"
   ],
   "id": "dc03e1a5023868d0",
   "outputs": [],
   "execution_count": null
  },
  {
   "metadata": {},
   "cell_type": "code",
   "source": [
    "data = bytearray(b\"Hello\")\n",
    "mv = memoryview(data)\n",
    "mv[0] = 74  # Changes H to J\n",
    "print(data)  # Output: bytearray(b'Jello')"
   ],
   "id": "c504b8bb62c6aea4",
   "outputs": [],
   "execution_count": null
  },
  {
   "metadata": {},
   "cell_type": "code",
   "source": [
    "class X:\n",
    "    a = 1\n",
    "print(vars(X))\n",
    "print(dir(X))"
   ],
   "id": "5e1ea50487f66756",
   "outputs": [],
   "execution_count": null
  },
  {
   "metadata": {},
   "cell_type": "code",
   "source": "",
   "id": "f1a0734d1fc8d483",
   "outputs": [],
   "execution_count": null
  },
  {
   "metadata": {},
   "cell_type": "code",
   "source": [
    "names = ['Ali', 'Sara',\"sana\"]\n",
    "ages = [20, 25]\n",
    "print(list(zip(names, ages)))"
   ],
   "id": "2f96c30443757ff2",
   "outputs": [],
   "execution_count": null
  },
  {
   "metadata": {},
   "cell_type": "code",
   "source": [
    "from datetime import date\n",
    "Mybirthday = date(1998, 12, 15)\n",
    "print(\"Birthday:\", Mybirthday)"
   ],
   "id": "3c82050d38e31bf",
   "outputs": [],
   "execution_count": null
  },
  {
   "metadata": {},
   "cell_type": "code",
   "source": [
    "import logging\n",
    "a=logging.basicConfig(filename=\"abc.log\",level=logging.DEBUG)\n",
    "print(a)"
   ],
   "id": "f90a22fdeff1afd8",
   "outputs": [],
   "execution_count": null
  },
  {
   "metadata": {},
   "cell_type": "code",
   "source": [
    "import json\n",
    "a=[3,4,3,2,4]\n",
    "b=str(a)\n",
    "\n",
    "with open(\"aaawa.txt\",\"w\")as f:\n",
    "\n",
    "    json.dump(b,f)\n",
    "with open('aaawa.txt','r') as f:\n",
    "    print(f.read())\n",
    "with open('aaawa.txt','r') as f:\n",
    "    k=json.load(f)\n",
    "    print(k)\n",
    "\n",
    "\n",
    "\n"
   ],
   "id": "da35d3e67960e28",
   "outputs": [],
   "execution_count": null
  },
  {
   "metadata": {
    "ExecuteTime": {
     "end_time": "2025-07-24T05:17:45.343792Z",
     "start_time": "2025-07-24T05:17:41.918864Z"
    }
   },
   "cell_type": "code",
   "source": [
    "# # import smtplib\n",
    "# # a=smtplib.SMTP('awa@gmai.com',587)\n",
    "# # a.ehlo()\n",
    "# # a.starttls()\n",
    "# # a.login('muhammadawaisidrees47@gmail.com',\"awais478@\")\n",
    "# # a.sendmail('muhammadawaisidrees47@gmail.com','aawaisidrees478@gmail.com',\"how are you\")\n",
    "# # a.quit()\n",
    "# import smtplib\n",
    "# from email.message import EmailMessage\n",
    "# import smtplib\n",
    "#\n",
    "# # === Step 1: Email Setup ===\n",
    "# sender_email = \"muhammadawaisidrees478@gmail.com\"\n",
    "# receiver_email = \"awaisidrees478@gmail.com\"\n",
    "# app_password = \"import smtplib\"\n",
    "# from email.message import EmailMessage\n",
    "#\n",
    "# # === Step 1: Email Setup ===\n",
    "# sender_email = \"your_email@gmail.com\"\n",
    "# receiver_email = \"receiver_email@example.com\"\n",
    "# app_password = \"rxsl udse wdzg gitz\"  # Use App Password (NOT your Gmail password)\n",
    "#\n",
    "# subject = \"Test Email from Python\"\n",
    "# body = \"Hello! This is a test email sent using Python without attachment.\"\n",
    "#\n",
    "# # === Step 2: Create Email ===\n",
    "# msg = EmailMessage()\n",
    "# msg['From'] = sender_email\n",
    "# msg['To'] = receiver_email\n",
    "# msg['Subject'] = subject\n",
    "# msg.set_content(body)\n",
    "#\n",
    "# # === Step 3: Send Using SMTP ===\n",
    "# try:\n",
    "#     with smtplib.SMTP(\"smtp.gmail.com\", 587) as server:\n",
    "#         server.starttls()  # Start TLS encryption\n",
    "#         server.login(sender_email, app_password)\n",
    "#         server.send_message(msg)\n",
    "#         print(\"✅ Email sent successfully!\")\n",
    "# except Exception as e:\n",
    "#     print(\"❌ Error sending email:\", e)\n",
    "#   # Use App Password (NOT your Gmail password)\n",
    "#\n",
    "# subject = \"Test Email from Python\"\n",
    "# body = \"Hello! This is a test email sent using Python without attachment.\"\n",
    "#\n",
    "# # === Step 2: Create Email ===\n",
    "# msg = EmailMessage()\n",
    "# msg['From'] = sender_email\n",
    "# msg['To'] = receiver_email\n",
    "# msg['Subject'] = subject\n",
    "# msg.set_content(body)\n",
    "#\n",
    "# # === Step 3: Send Using SMTP ===\n",
    "# try:\n",
    "#     with smtplib.SMTP(\"smtp.gmail.com\", 587) as server:\n",
    "#         server.starttls()  # Start TLS encryption\n",
    "#         server.login(sender_email, app_password)\n",
    "#         server.send_message(msg)\n",
    "#         print(\"✅ Email sent successfully!\")\n",
    "# except Exception as e:\n",
    "#     print(\"❌ Error sending email:\", e)\n",
    "#\n",
    "\n",
    "#email module\n",
    "import smtplib\n",
    "from email.message import EmailMessage\n",
    "msg = EmailMessage()\n",
    "msg['Subject'] = 'email'\n",
    "msg['From'] = 'muhammadawaisidrees478@gmail.com'\n",
    "msg['To'] = 'awaisidrees478@gmail.com'\n",
    "msg.set_content('hey')\n",
    "# Gmail SMTP server details\n",
    "smtp_server = 'smtp.gmail.com'\n",
    "port = 465  # For SSL\n",
    "email_address = 'muhammadawaisidrees478@gmail.com'\n",
    "email_password = 'yyzc iyxc endy puhm'  # Use app password, NOT your real Gmail password\n",
    "# Send the email\n",
    "with smtplib.SMTP_SSL(smtp_server, port) as smtp:\n",
    "    smtp.login(email_address, email_password)\n",
    "    smtp.send_message(msg)\n",
    "print(\"Email sent successfully!\")\n"
   ],
   "id": "2c0283393cc20a44",
   "outputs": [
    {
     "name": "stdout",
     "output_type": "stream",
     "text": [
      "Email sent successfully!\n"
     ]
    }
   ],
   "execution_count": 1
  },
  {
   "metadata": {},
   "cell_type": "code",
   "source": [
    "class mylist:\n",
    "    def __init__(self):\n",
    "        self.name=[]\n",
    "    def add(self,item):\n",
    "         self.name.append(item)\n",
    "    def __repr__(self):\n",
    "        return str(self.name)\n",
    "\n",
    "\n",
    "a=mylist()\n",
    "a.add(2)\n",
    "a.add(45)\n",
    "print(a)\n"
   ],
   "id": "394c1c3b978858a1",
   "outputs": [],
   "execution_count": null
  },
  {
   "metadata": {},
   "cell_type": "code",
   "source": [
    "class mydic:\n",
    "\n",
    "    def __init__(self):\n",
    "        self.value={}\n",
    "    def add(self,key,val):\n",
    "        self.value[key]=val\n",
    "    def __repr__(self):\n",
    "        return str(self.value)\n",
    "    def get(self,key):\n",
    "        return self.value.get(key)\n",
    "a=mydic()\n",
    "a.add('n',34)\n",
    "a.add('b',33)\n",
    "a.add('c',32)\n",
    "print(a.value)\n",
    "print(a)\n",
    "print(a.get('b'))\n",
    "\n",
    "\n"
   ],
   "id": "df3e4e554e736f38",
   "outputs": [],
   "execution_count": null
  },
  {
   "metadata": {},
   "cell_type": "code",
   "source": "",
   "id": "b68ea2be0920802",
   "outputs": [],
   "execution_count": null
  },
  {
   "metadata": {},
   "cell_type": "code",
   "source": "",
   "id": "62931fc4eef35718",
   "outputs": [],
   "execution_count": null
  }
 ],
 "metadata": {
  "kernelspec": {
   "display_name": "Python 3",
   "language": "python",
   "name": "python3"
  },
  "language_info": {
   "codemirror_mode": {
    "name": "ipython",
    "version": 2
   },
   "file_extension": ".py",
   "mimetype": "text/x-python",
   "name": "python",
   "nbconvert_exporter": "python",
   "pygments_lexer": "ipython2",
   "version": "2.7.6"
  }
 },
 "nbformat": 4,
 "nbformat_minor": 5
}
