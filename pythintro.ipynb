{
 "cells": [
  {
   "cell_type": "code",
   "id": "initial_id",
   "metadata": {
    "collapsed": true
   },
   "source": [
    "#For Loop\n",
    "fruits = [\"apple\",\"orange\",\"banana\",\"mango\"]\n",
    "\n",
    "for x in fruits:\n",
    "    print(x)\n",
    "    for y in \"apple\":\n",
    "        print(y)"
   ],
   "outputs": [],
   "execution_count": null
  },
  {
   "metadata": {},
   "cell_type": "code",
   "source": [
    "#Range in For loop\n",
    "fruits = [\"apple\",\"orange\",\"banana\",\"mango\"]\n",
    "lenth = len(fruits)\n",
    "print(fruits[2])\n",
    "print(\".....next.....\")\n",
    "for x in range(lenth):\n",
    "    print(fruits[x])\n",
    "for y in range(1,100,2):\n",
    "    print(y)\n",
    "for z in range(6):\n",
    "  print(z)\n",
    "else:\n",
    "  print(\"Finally finished!\")\n",
    "for x in range(10):\n",
    "    if x==7:\n",
    "        break\n",
    "    print(x)"
   ],
   "id": "73cbb211e9592883",
   "outputs": [],
   "execution_count": null
  },
  {
   "metadata": {},
   "cell_type": "code",
   "source": " print(dir([]))",
   "id": "40bebfbec38dbb37",
   "outputs": [],
   "execution_count": null
  },
  {
   "metadata": {},
   "cell_type": "code",
   "source": [
    "a=5\n",
    "print(type(a))\n",
    "a=str(a)\n",
    "print(type(a))"
   ],
   "id": "5ca012bfbb70dab8",
   "outputs": [],
   "execution_count": null
  },
  {
   "metadata": {},
   "cell_type": "code",
   "source": [
    "a=\"Awais\"\n",
    "print(len(a))\n",
    "print(a)\n",
    "print(a[2])\n",
    "print(a[0])\n",
    "print(a[4])\n",
    "print(a[1:])\n",
    "print(ascii(\"awais2\"))\n",
    "print(ascii(\"awais😊\"))\n",
    "print(a.upper())\n",
    "print(a.lower())\n",
    "b=[1,3,2,9,4,6,2]\n",
    "b.sort()\n",
    "print(b)\n",
    "print(len(b))"
   ],
   "id": "edc50cbd0d9d293f",
   "outputs": [],
   "execution_count": null
  },
  {
   "metadata": {},
   "cell_type": "code",
   "source": [
    "a=\"awais\"\n",
    "b=\"idrees\"\n",
    "print(a>b or b>a)\n"
   ],
   "id": "e5a2bcdd6f32dac",
   "outputs": [],
   "execution_count": null
  },
  {
   "metadata": {},
   "cell_type": "code",
   "source": [
    "a=[2,5,6,8,7,1,2,9,4]\n",
    "for i in a:\n",
    "    if a[i]==9:\n",
    "        a.pop(i)\n",
    "        break\n",
    "    print(a)\n",
    "\n",
    "# print(a)\n",
    "# print(a)\n",
    "# print(a[5])\n",
    "# print(a[1:6])\n",
    "# print(a[-5:])\n",
    "# #b=[(x**3,x*2,x) for x in a]\n",
    "# print(a.append(19))\n",
    "# # a[3]=8\n",
    "# print(a)\n",
    "# a.pop(2)\n",
    "# print(a)\n",
    "\n",
    "# print(a.pop(3))\n",
    "# print(a)\n",
    "# a.pop([1])\n",
    "# print(a)\n",
    "\n",
    "\n"
   ],
   "id": "49d23626e9187e36",
   "outputs": [],
   "execution_count": null
  },
  {
   "metadata": {
    "ExecuteTime": {
     "end_time": "2025-07-14T07:45:24.939317Z",
     "start_time": "2025-07-14T07:45:24.933657Z"
    }
   },
   "cell_type": "code",
   "source": [
    "a=compile(\"print(7+9)\",\"\",\"exec\")\n",
    "exec(a)\n"
   ],
   "id": "f21fa700b4ba1e92",
   "outputs": [
    {
     "name": "stdout",
     "output_type": "stream",
     "text": [
      "16\n"
     ]
    }
   ],
   "execution_count": 74
  }
 ],
 "metadata": {
  "kernelspec": {
   "display_name": "Python 3",
   "language": "python",
   "name": "python3"
  },
  "language_info": {
   "codemirror_mode": {
    "name": "ipython",
    "version": 2
   },
   "file_extension": ".py",
   "mimetype": "text/x-python",
   "name": "python",
   "nbconvert_exporter": "python",
   "pygments_lexer": "ipython2",
   "version": "2.7.6"
  }
 },
 "nbformat": 4,
 "nbformat_minor": 5
}
